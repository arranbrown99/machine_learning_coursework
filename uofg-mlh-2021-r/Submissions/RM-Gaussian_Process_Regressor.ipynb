{
 "cells": [
  {
   "cell_type": "code",
   "execution_count": 1,
   "metadata": {},
   "outputs": [],
   "source": [
    "#!/usr/bin/env python\n",
    "import numpy as np\n",
    "from sklearn import linear_model\n",
    "from sklearn.metrics import mean_squared_error\n",
    "import math\n",
    "from matplotlib import pyplot as plt\n",
    "\n",
    "from sklearn.model_selection import train_test_split \n",
    "from sklearn.gaussian_process import GaussianProcessRegressor\n",
    "from sklearn.gaussian_process.kernels import DotProduct, WhiteKernel"
   ]
  },
  {
   "cell_type": "code",
   "execution_count": 2,
   "metadata": {},
   "outputs": [
    {
     "name": "stdout",
     "output_type": "stream",
     "text": [
      "Root mean square error = 48.99477685930217\n",
      "Coefficient of determination R^2 = 0.8809857695299543\n"
     ]
    },
    {
     "data": {
      "image/png": "[encoded data removed]",
      "text/plain": [
       "<Figure size 432x288 with 1 Axes>"
      ]
     },
     "metadata": {
      "needs_background": "light"
     },
     "output_type": "display_data"
    }
   ],
   "source": [
    "def plot(X, y_actual, y_predicted, index):\n",
    "    lst = [\"Machine cycle time (Nanoseconds)\", \"Min memory\", \"Max memory\"]\n",
    "   \n",
    "    feature_index = index\n",
    "    feature = lst[index]\n",
    "\n",
    "    plt.scatter(X[:,feature_index], y_actual)\n",
    "    plt.title(\"Feature \" + str(feature_index + 1))\n",
    "    plt.xlabel(\"Machine cycle time (Nanoseconds)\")\n",
    "    plt.ylabel(feature)\n",
    "    \n",
    "def model(ratio):\n",
    "    # Load training and testing data\n",
    "    X_train = np.loadtxt('X_train.csv', delimiter=',', skiprows=1) # each row is an observation with 6 features\n",
    "    y_train = np.loadtxt('y_train.csv', delimiter=',', skiprows=1)[:,1] # each row corresponds to actual value of observation from ^\n",
    "\n",
    "    # Set up the model\n",
    "    kernel = DotProduct() + WhiteKernel()\n",
    "    regression = GaussianProcessRegressor(kernel=kernel, random_state=0)\n",
    "\n",
    "    # Partition data into train and test\n",
    "    train_x, cross_validation_x_data, train_y, cross_validation_actual_y_values = train_test_split(X_train, y_train, test_size=(1-ratio), random_state=0)\n",
    "\n",
    "    # Train model\n",
    "    regression.fit(train_x, train_y)\n",
    "\n",
    "    # Test model\n",
    "    test_y = regression.predict(cross_validation_x_data)\n",
    "    \n",
    "    plot(cross_validation_x_data, cross_validation_actual_y_values, test_y, 0)\n",
    "    \n",
    "    mse = mean_squared_error(cross_validation_actual_y_values, test_y)\n",
    "    rmse = math.sqrt(mse)\n",
    "    coeff_det = regression.score(cross_validation_x_data, cross_validation_actual_y_values)\n",
    "    return (rmse, coeff_det, regression)\n",
    "\n",
    "ratio = 0.83\n",
    "rmse, coeff, regression = model(ratio)\n",
    "\n",
    "print(\"Root mean square error = \" + str(rmse))\n",
    "print(\"Coefficient of determination R^2 = \" + str(coeff))\n",
    "\n",
    "X_test = np.loadtxt('X_test.csv', delimiter=',', skiprows=1)\n",
    "y_pred = regression.predict(X_test)"
   ]
  },
  {
   "cell_type": "code",
   "execution_count": 3,
   "metadata": {},
   "outputs": [],
   "source": [
    "test_header = \"Id,PRP\"\n",
    "n_points = X_test.shape[0]\n",
    "y_pred_pp = np.ones((n_points, 2))\n",
    "y_pred_pp[:, 0] = range(n_points)\n",
    "y_pred_pp[:, 1] = y_pred\n",
    "np.savetxt('my_submission.csv', y_pred_pp, fmt='%d', delimiter=\",\",\n",
    "           header=test_header, comments=\"\")"
   ]
  },
  {
   "cell_type": "code",
   "execution_count": null,
   "metadata": {},
   "outputs": [],
   "source": []
  }
 ],
 "metadata": {
  "kernelspec": {
   "display_name": "Python 3",
   "language": "python",
   "name": "python3"
  },
  "language_info": {
   "codemirror_mode": {
    "name": "ipython",
    "version": 3
   },
   "file_extension": ".py",
   "mimetype": "text/x-python",
   "name": "python",
   "nbconvert_exporter": "python",
   "pygments_lexer": "ipython3",
   "version": "3.7.6"
  }
 },
 "nbformat": 4,
 "nbformat_minor": 4
}
