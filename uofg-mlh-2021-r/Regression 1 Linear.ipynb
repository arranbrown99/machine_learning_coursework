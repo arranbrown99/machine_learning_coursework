{
 "cells": [
  {
   "cell_type": "code",
   "execution_count": 87,
   "metadata": {},
   "outputs": [],
   "source": [
    "#!/usr/bin/env python\n",
    "import numpy as np\n",
    "from sklearn import linear_model\n",
    "from sklearn.metrics import mean_squared_error\n",
    "import math\n",
    "from matplotlib import pyplot as plt\n",
    "\n",
    "from sklearn.model_selection import train_test_split "
   ]
  },
  {
   "cell_type": "code",
   "execution_count": 96,
   "metadata": {},
   "outputs": [
    {
     "name": "stdout",
     "output_type": "stream",
     "text": [
      "0.79\n",
      "[ 0.04675011  0.00810348  0.00774909  0.62797244 -2.07535857  1.42633647]\n",
      "Root mean square error = 75.69841108955181\n",
      "Coefficient of determination R^2 = 0.8772425202312105\n"
     ]
    }
   ],
   "source": [
    "def model(ratio):\n",
    "    # Load training and testing data\n",
    "    X_train = np.loadtxt('X_train.csv', delimiter=',', skiprows=1) # each row is an observation with 6 features\n",
    "    y_train = np.loadtxt('y_train.csv', delimiter=',', skiprows=1)[:,1] # each row corresponds to actual value of observation from ^\n",
    "\n",
    "    # Set up the model\n",
    "    regression = linear_model.LinearRegression() \n",
    "\n",
    "    # Partition data into train and test\n",
    "    train_x, cross_validation_x_data, train_y, cross_validation_actual_y_values = train_test_split(X_train, y_train, test_size=(1-ratio), random_state=0)\n",
    "\n",
    "    # Train model\n",
    "    regression.fit(train_x, train_y)\n",
    "    \n",
    "    print(regression.coef_)\n",
    "\n",
    "\n",
    "    # Test model\n",
    "    test_y = regression.predict(cross_validation_x_data)\n",
    "\n",
    "    mse = mean_squared_error(cross_validation_actual_y_values, test_y)\n",
    "    rmse = math.sqrt(mse)\n",
    "\n",
    "    print(\"Root mean square error = \" + str(rmse))\n",
    "\n",
    "    coeff_det = regression.score(cross_validation_x_data, cross_validation_actual_y_values)\n",
    "\n",
    "    print(\"Coefficient of determination R^2 = \" + str(coeff_det))\n",
    "    \n",
    "    return (rmse, coeff_det, regression)\n",
    "\n",
    "\n",
    "ratios = np.linspace(0.01, 0.99, 99)\n",
    "# print(ratios)\n",
    "# ratios = [0.64]\n",
    "ratios = [0.79]\n",
    "y_pred_pp = []\n",
    "for ratio in ratios:\n",
    "    print(ratio)\n",
    "    rmse, coeff, regression = model(ratio)\n",
    "    X_test = np.loadtxt('X_test.csv', delimiter=',', skiprows=1)\n",
    "    y_pred_pp = regression.predict(X_test)\n",
    "    negatives = np.sum(np.array(y_pred_pp) < 0)\n",
    "#     print(\"Number of negative predictions = \" + str(negatives))"
   ]
  },
  {
   "cell_type": "code",
   "execution_count": 95,
   "metadata": {},
   "outputs": [],
   "source": [
    "# Arrange answer in two columns. First column (with header \"Id\") is an\n",
    "# enumeration from 0 to n-1, where n is the number of test points. Second\n",
    "# column (with header \"EpiOrStroma\" is the predictions.\n",
    "test_header = \"Id,PRP\"\n",
    "n_points = X_test.shape[0]\n",
    "y_pred_pp = np.ones((n_points, 2))\n",
    "y_pred_pp[:, 0] = range(n_points)\n",
    "y_pred_pp[:, 1] = y_pred\n",
    "np.savetxt('my_submission.csv', y_pred_pp, fmt='%d', delimiter=\",\",\n",
    "           header=test_header, comments=\"\")\n",
    "\n",
    "# Note: fmt='%d' denotes that all values should be formatted as integers which\n",
    "# is appropriate for classification. For regression, where the second column\n",
    "# should be floating point, use fmt='%d,%f'.\n",
    "    "
   ]
  },
  {
   "cell_type": "code",
   "execution_count": null,
   "metadata": {},
   "outputs": [],
   "source": []
  }
 ],
 "metadata": {
  "kernelspec": {
   "display_name": "Python 3",
   "language": "python",
   "name": "python3"
  },
  "language_info": {
   "codemirror_mode": {
    "name": "ipython",
    "version": 3
   },
   "file_extension": ".py",
   "mimetype": "text/x-python",
   "name": "python",
   "nbconvert_exporter": "python",
   "pygments_lexer": "ipython3",
   "version": "3.7.6"
  }
 },
 "nbformat": 4,
 "nbformat_minor": 4
}
