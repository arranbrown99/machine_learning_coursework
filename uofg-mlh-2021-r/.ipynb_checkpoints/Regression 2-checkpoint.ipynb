{
 "cells": [
  {
   "cell_type": "code",
   "execution_count": 65,
   "metadata": {},
   "outputs": [],
   "source": [
    "#!/usr/bin/env python\n",
    "import numpy as np\n",
    "from sklearn.metrics import mean_squared_error\n",
    "import math\n",
    "from matplotlib import pyplot as plt\n",
    "\n",
    "from sklearn.preprocessing import PolynomialFeatures\n",
    "from sklearn.pipeline import make_pipeline\n",
    "from sklearn.linear_model import LinearRegression\n",
    "\n",
    "\n",
    "from sklearn.model_selection import train_test_split \n"
   ]
  },
  {
   "cell_type": "code",
   "execution_count": 89,
   "metadata": {},
   "outputs": [
    {
     "name": "stdout",
     "output_type": "stream",
     "text": [
      "0.84\n",
      "Root mean square error = 40.57126526470691\n",
      "Coefficient of determination R^2 = 0.9104368167268893\n"
     ]
    }
   ],
   "source": [
    "def model(ratio, degree):\n",
    "    # Load training and testing data\n",
    "    X_train = np.loadtxt('X_train.csv', delimiter=',', skiprows=1) # each row is an observation with 6 features\n",
    "    y_train = np.loadtxt('y_train.csv', delimiter=',', skiprows=1)[:,1] # each row corresponds to actual value of observation from ^\n",
    "\n",
    "    # Set up the model\n",
    "    regression = make_pipeline(PolynomialFeatures(degree), LinearRegression())\n",
    "\n",
    "    # Partition data into train and test\n",
    "    train_x, cross_validation_x_data, train_y, cross_validation_actual_y_values = train_test_split(X_train, y_train, test_size=(1-ratio), random_state=0)\n",
    "\n",
    "    # Train model\n",
    "    regression.fit(train_x, train_y)\n",
    "\n",
    "    # Test model\n",
    "    test_y = regression.predict(cross_validation_x_data)\n",
    "\n",
    "    # Evaluation\n",
    "    mse = mean_squared_error(cross_validation_actual_y_values, test_y)\n",
    "    rmse = math.sqrt(mse)\n",
    "    coeff_det = regression.score(cross_validation_x_data, cross_validation_actual_y_values)\n",
    "    return (rmse, coeff_det, regression)\n",
    "\n",
    "\n",
    "ratios = np.linspace(0.01, 0.99, 99)\n",
    "# print(ratios)\n",
    "ratios = [0.84]\n",
    "y_pred = []\n",
    "for ratio in ratios:\n",
    "    rmse, coeff, regression = model(ratio, 2)\n",
    "    X_test = np.loadtxt('X_test.csv', delimiter=',', skiprows=1)\n",
    "    y_pred = regression.predict(X_test)\n",
    "    negatives = np.sum(np.array(y_pred_pp) < 0)\n",
    "    \n",
    "#     if (rmse < 45 and coeff > 0.85):\n",
    "    print(ratio)\n",
    "    print(\"Root mean square error = \" + str(rmse))\n",
    "    print(\"Coefficient of determination R^2 = \" + str(coeff))\n",
    "    \n",
    "#     print(\"Number of negative predictions = \" + str(negatives))\n",
    "#     print(y_pred_pp)"
   ]
  },
  {
   "cell_type": "code",
   "execution_count": 90,
   "metadata": {},
   "outputs": [],
   "source": [
    "# Arrange answer in two columns. First column (with header \"Id\") is an\n",
    "# enumeration from 0 to n-1, where n is the number of test points. Second\n",
    "# column (with header \"EpiOrStroma\" is the predictions.\n",
    "test_header = \"Id,PRP\"\n",
    "n_points = X_test.shape[0]\n",
    "y_pred_pp = np.ones((n_points, 2))\n",
    "y_pred_pp[:, 0] = range(n_points)\n",
    "y_pred_pp[:, 1] = y_pred\n",
    "np.savetxt('my_submission.csv', y_pred_pp, fmt='%d', delimiter=\",\",\n",
    "           header=test_header, comments=\"\")\n",
    "\n",
    "# Note: fmt='%d' denotes that all values should be formatted as integers which\n",
    "# is appropriate for classification. For regression, where the second column\n",
    "# should be floating point, use fmt='%d,%f'.\n",
    "    "
   ]
  },
  {
   "cell_type": "code",
   "execution_count": null,
   "metadata": {},
   "outputs": [],
   "source": []
  }
 ],
 "metadata": {
  "kernelspec": {
   "display_name": "Python 3",
   "language": "python",
   "name": "python3"
  },
  "language_info": {
   "codemirror_mode": {
    "name": "ipython",
    "version": 3
   },
   "file_extension": ".py",
   "mimetype": "text/x-python",
   "name": "python",
   "nbconvert_exporter": "python",
   "pygments_lexer": "ipython3",
   "version": "3.7.6"
  }
 },
 "nbformat": 4,
 "nbformat_minor": 4
}
