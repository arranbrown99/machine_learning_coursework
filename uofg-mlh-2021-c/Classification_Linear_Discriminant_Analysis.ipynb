{
 "cells": [
  {
   "cell_type": "code",
   "execution_count": 1,
   "metadata": {},
   "outputs": [],
   "source": [
    "import numpy as np\n",
    "from sklearn.model_selection import train_test_split\n",
    "from sklearn.discriminant_analysis import LinearDiscriminantAnalysis\n",
    "\n",
    "from helper_functions import evaluate, plot_roc, plot_confusion_matrix"
   ]
  },
  {
   "cell_type": "code",
   "execution_count": 2,
   "metadata": {},
   "outputs": [
    {
     "name": "stdout",
     "output_type": "stream",
     "text": [
      "---\n",
      "Accuracy Rate = 0.8333333333333334\n",
      "Sensitivity Rate = 0.92\n"
     ]
    }
   ],
   "source": [
    "def train_model(ratio,solver,shrinkage):\n",
    "    # Load training and testing data\n",
    "    X_train = np.loadtxt('X_train.csv', delimiter=',', skiprows=1) # each row is an observation with 6 features\n",
    "    y_train = np.loadtxt('y_train.csv', delimiter=',', skiprows=1)[:,1] # each row corresponds to actual value of observation from ^\n",
    "\n",
    "    \n",
    "    # Set up the model\n",
    "    print(\"---\")\n",
    "    classification = LinearDiscriminantAnalysis(solver='lsqr',shrinkage='auto')\n",
    "    # Partition data into train and test\n",
    "    train_x, cross_validation_x_data, train_y, cross_validation_actual_y_values = train_test_split(X_train, y_train, test_size=(1-ratio), random_state=0)\n",
    "\n",
    "    # Train model\n",
    "    classification.fit(train_x, train_y)\n",
    "\n",
    "    # Test model\n",
    "    predicted_validation_y = classification.predict(cross_validation_x_data)\n",
    "    # predict positive probabilities\n",
    "    predicted_validation_y_probs = classification.predict_proba(cross_validation_x_data)\n",
    "    predicted_validation_y_probs = predicted_validation_y_probs[:, 1]\n",
    "    \n",
    "    return classification, predicted_validation_y, cross_validation_actual_y_values,predicted_validation_y_probs\n",
    "\n",
    "\n",
    "\n",
    "\n",
    "ratio = 0.76\n",
    "solver='lsqr'\n",
    "shrinkage='auto'\n",
    "trained_classification, predicted_validation_y, validation_actual_y_values,predicted_validation_y_probs = train_model(ratio,solver,shrinkage)\n",
    "\n",
    "accuracy, sensitivity,con_matrix = evaluate(predicted_validation_y, validation_actual_y_values)\n",
    "\n",
    "X_test = np.loadtxt('X_test.csv', delimiter=',', skiprows=1)\n",
    "y_pred = trained_classification.predict(X_test)\n"
   ]
  },
  {
   "cell_type": "code",
   "execution_count": 3,
   "metadata": {},
   "outputs": [
    {
     "name": "stdout",
     "output_type": "stream",
     "text": [
      "ROC AUC Score= 0.9356521739130435\n"
     ]
    },
    {
     "data": {
      "image/png": "[encoded data removed]",
      "text/plain": [
       "<Figure size 432x288 with 1 Axes>"
      ]
     },
     "metadata": {
      "needs_background": "light"
     },
     "output_type": "display_data"
    }
   ],
   "source": [
    "plot_roc(validation_actual_y_values,predicted_validation_y_probs)"
   ]
  },
  {
   "cell_type": "code",
   "execution_count": 4,
   "metadata": {},
   "outputs": [
    {
     "name": "stdout",
     "output_type": "stream",
     "text": [
      "Confusion Matrix of Classes\n",
      "[[23  2]\n",
      " [ 6 17]]\n",
      "---\n"
     ]
    },
    {
     "data": {
      "image/png": "[encoded data removed]",
      "text/plain": [
       "<Figure size 432x288 with 2 Axes>"
      ]
     },
     "metadata": {
      "needs_background": "light"
     },
     "output_type": "display_data"
    }
   ],
   "source": [
    "plot_confusion_matrix(con_matrix,[\"Class A\",\"Class B\"])"
   ]
  },
  {
   "cell_type": "code",
   "execution_count": 5,
   "metadata": {},
   "outputs": [],
   "source": [
    "# Arrange answer in two columns. First column (with header \"Id\") is an\n",
    "# enumeration from 0 to n-1, where n is the number of test points. Second\n",
    "# column (with header \"EpiOrStroma\" is the predictions.\n",
    "test_header = \"Id,EpiOrStroma\"\n",
    "n_points = X_test.shape[0]\n",
    "y_pred_pp = np.ones((n_points, 2))\n",
    "y_pred_pp[:, 0] = range(n_points)\n",
    "y_pred_pp[:, 1] = y_pred\n",
    "np.savetxt('my_submission.csv', y_pred_pp, fmt='%d', delimiter=\",\",\n",
    "           header=test_header, comments=\"\")\n",
    "\n",
    "# Note: fmt='%d' denotes that all values should be formatted as integers which\n",
    "# is appropriate for classification. For regression, where the second column\n",
    "# should be floating point, use fmt='%d,%f'.\n",
    "    "
   ]
  }
 ],
 "metadata": {
  "kernelspec": {
   "display_name": "Python 3",
   "language": "python",
   "name": "python3"
  },
  "language_info": {
   "codemirror_mode": {
    "name": "ipython",
    "version": 3
   },
   "file_extension": ".py",
   "mimetype": "text/x-python",
   "name": "python",
   "nbconvert_exporter": "python",
   "pygments_lexer": "ipython3",
   "version": "3.7.1"
  }
 },
 "nbformat": 4,
 "nbformat_minor": 2
}
