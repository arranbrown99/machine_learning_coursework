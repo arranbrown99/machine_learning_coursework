{
 "cells": [
  {
   "cell_type": "code",
   "execution_count": 6,
   "metadata": {},
   "outputs": [],
   "source": [
    "import numpy as np\n",
    "from sklearn.model_selection import train_test_split\n",
    "from sklearn.discriminant_analysis import LinearDiscriminantAnalysis\n",
    "from sklearn.metrics import accuracy_score, roc_auc_score, recall_score"
   ]
  },
  {
   "cell_type": "code",
   "execution_count": 27,
   "metadata": {},
   "outputs": [
    {
     "name": "stdout",
     "output_type": "stream",
     "text": [
      "---\n",
      "Accuracy Rate = 0.8541666666666666\n",
      "Sensitivity Rate = 0.92\n",
      "ROC AUC Score= 0.8513043478260869\n"
     ]
    }
   ],
   "source": [
    "def model(ratio,solver,shrinkage):\n",
    "    # Load training and testing data\n",
    "    X_train = np.loadtxt('X_train.csv', delimiter=',', skiprows=1) # each row is an observation with 6 features\n",
    "    y_train = np.loadtxt('y_train.csv', delimiter=',', skiprows=1)[:,1] # each row corresponds to actual value of observation from ^\n",
    "\n",
    "    # Set up the model\n",
    "    print(\"---\")\n",
    "    classification = LinearDiscriminantAnalysis(solver='lsqr',shrinkage='auto')\n",
    "    # Partition data into train and test\n",
    "    train_x, cross_validation_x_data, train_y, cross_validation_actual_y_values = train_test_split(X_train, y_train, test_size=(1-ratio), random_state=0)\n",
    "\n",
    "    # Train model\n",
    "    classification.fit(train_x, train_y)\n",
    "\n",
    "    # Test model\n",
    "    test_y = classification.predict(cross_validation_x_data)\n",
    "    \n",
    "    return (classification, test_y, cross_validation_actual_y_values)\n",
    "\n",
    "def evaluate(classification, predicted_y_values, actual_y_values):\n",
    "    accuracy = accuracy_score(actual_y_values, predicted_y_values)\n",
    "    sensitivity = recall_score(actual_y_values, predicted_y_values)\n",
    "    roc_auc_score_value = roc_auc_score(actual_y_values, predicted_y_values)\n",
    "    print(\"Accuracy Rate = \" + str(accuracy))\n",
    "    print(\"Sensitivity Rate = \" + str(sensitivity))\n",
    "    print(\"ROC AUC Score= \" + str(roc_auc_score_value))\n",
    "    return (accuracy, sensitivity, roc_auc_score_value)\n",
    "\n",
    "\n",
    "ratio = 0.76\n",
    "solver='lsqr'\n",
    "shrinkage='auto'\n",
    "classification, test_y, cross_validation_actual_y_values = model(ratio,solver,shrinkage)\n",
    "X_test = np.loadtxt('X_test.csv', delimiter=',', skiprows=1)\n",
    "y_pred = classification.predict(X_test)\n",
    "accuracy, sensitivity, roc_auc_score_value = evaluate(classification, test_y, cross_validation_actual_y_values)"
   ]
  },
  {
   "cell_type": "code",
   "execution_count": 28,
   "metadata": {},
   "outputs": [],
   "source": [
    "# Arrange answer in two columns. First column (with header \"Id\") is an\n",
    "# enumeration from 0 to n-1, where n is the number of test points. Second\n",
    "# column (with header \"EpiOrStroma\" is the predictions.\n",
    "test_header = \"Id,EpiOrStroma\"\n",
    "n_points = X_test.shape[0]\n",
    "y_pred_pp = np.ones((n_points, 2))\n",
    "y_pred_pp[:, 0] = range(n_points)\n",
    "y_pred_pp[:, 1] = y_pred\n",
    "np.savetxt('my_submission.csv', y_pred_pp, fmt='%d', delimiter=\",\",\n",
    "           header=test_header, comments=\"\")\n",
    "\n",
    "# Note: fmt='%d' denotes that all values should be formatted as integers which\n",
    "# is appropriate for classification. For regression, where the second column\n",
    "# should be floating point, use fmt='%d,%f'.\n",
    "    "
   ]
  }
 ],
 "metadata": {
  "kernelspec": {
   "display_name": "Python 3",
   "language": "python",
   "name": "python3"
  },
  "language_info": {
   "codemirror_mode": {
    "name": "ipython",
    "version": 3
   },
   "file_extension": ".py",
   "mimetype": "text/x-python",
   "name": "python",
   "nbconvert_exporter": "python",
   "pygments_lexer": "ipython3",
   "version": "3.7.4"
  }
 },
 "nbformat": 4,
 "nbformat_minor": 2
}
