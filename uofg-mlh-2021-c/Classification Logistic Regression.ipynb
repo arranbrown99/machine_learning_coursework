{
 "cells": [
  {
   "cell_type": "code",
   "execution_count": 1,
   "metadata": {},
   "outputs": [],
   "source": [
    "#!/usr/bin/env python\n",
    "import numpy as np\n",
    "import math\n",
    "from matplotlib import pyplot as plt\n",
    "from sklearn.model_selection import train_test_split\n",
    "from sklearn.linear_model import LogisticRegression\n",
    "from sklearn.metrics import accuracy_score, roc_auc_score, recall_score\n",
    "\n",
    "from sklearn.utils.testing import ignore_warnings\n",
    "from sklearn.exceptions import ConvergenceWarning\n",
    "\n",
    "import warnings\n",
    "# @warnings.filterwarnings(\"ignore\", category=LineSearchWarning)\n",
    "\n",
    "from scipy.optimize.linesearch import LineSearchWarning\n",
    "\n"
   ]
  },
  {
   "cell_type": "code",
   "execution_count": null,
   "metadata": {},
   "outputs": [],
   "source": []
  },
  {
   "cell_type": "code",
   "execution_count": 14,
   "metadata": {
    "scrolled": false
   },
   "outputs": [
    {
     "name": "stdout",
     "output_type": "stream",
     "text": [
      "---\n",
      "80\n",
      "Ratio: 0.83\n",
      "Accuracy Rate = 0.8857142857142857\n",
      "Sensitivity Rate = 0.8947368421052632\n",
      "ROC AUC Score= 0.8848684210526315\n"
     ]
    }
   ],
   "source": [
    "@ignore_warnings(category=ConvergenceWarning)\n",
    "@ignore_warnings(category=LineSearchWarning)\n",
    "def model(ratio,solver,max_iters):\n",
    "    # Load training and testing data\n",
    "    X_train = np.loadtxt('X_train.csv', delimiter=',', skiprows=1) # each row is an observation with 6 features\n",
    "    y_train = np.loadtxt('y_train.csv', delimiter=',', skiprows=1)[:,1] # each row corresponds to actual value of observation from ^\n",
    "\n",
    "    # Set up the model\n",
    "    print(\"---\")\n",
    "    print(max_iters)\n",
    "    classification = LogisticRegression(random_state=None,solver=solver, max_iter=max_iters,fit_intercept=False)\n",
    "\n",
    "    # Partition data into train and test\n",
    "    train_x, cross_validation_x_data, train_y, cross_validation_actual_y_values = train_test_split(X_train, y_train, test_size=(1-ratio), random_state=0)\n",
    "\n",
    "    # Train model\n",
    "    classification.fit(train_x, train_y)\n",
    "\n",
    "    # Test model\n",
    "    test_y = classification.predict(cross_validation_x_data)\n",
    "    \n",
    "    return (classification, test_y, cross_validation_actual_y_values)\n",
    "\n",
    "def evaluate(classification, predicted_y_values, actual_y_values):\n",
    "    accuracy = accuracy_score(actual_y_values, predicted_y_values)\n",
    "    sensitivity = recall_score(actual_y_values, predicted_y_values)\n",
    "    specificity = 1\n",
    "    roc_auc_score_value = roc_auc_score(actual_y_values, predicted_y_values)\n",
    "    print(\"Accuracy Rate = \" + str(accuracy))\n",
    "    print(\"Sensitivity Rate = \" + str(sensitivity))\n",
    "    print(\"ROC AUC Score= \" + str(roc_auc_score_value))\n",
    "    return (accuracy, sensitivity, specificity, roc_auc_score_value)\n",
    "\n",
    "\n",
    "start = 0.5\n",
    "end=0.9\n",
    "ratios = np.linspace(start,end,int((end-start)*100+1))\n",
    "ratio=0.83\n",
    "\n",
    "\n",
    "y_pred = []\n",
    "max_roc = 0\n",
    "max_sensitivity = 0\n",
    "\n",
    "roc_values = []\n",
    "\n",
    "#solvers = ['lbfgs', 'sag', 'saga','newton-cg','liblinear']\n",
    "solver = 'newton-cg'\n",
    "\n",
    "start = 60\n",
    "end=100\n",
    "range_size = 1\n",
    "start_end = int((end-start)/range_size+1)\n",
    "\n",
    "max_iters = np.linspace(start,end,start_end)\n",
    "max_iters = [80]\n",
    "for max_iter in max_iters:\n",
    "    classification, test_y, cross_validation_actual_y_values = model(ratio,solver,max_iter)\n",
    "    X_test = np.loadtxt('X_test.csv', delimiter=',', skiprows=1)\n",
    "    y_pred = classification.predict(X_test)\n",
    "    negatives = np.sum(np.array(y_pred) < 0)\n",
    "    print(\"Ratio: \" + str(ratio))\n",
    "    accuracy, sensitivity, specificity, roc_auc_score_value = evaluate(classification, test_y, cross_validation_actual_y_values)\n",
    "    \n",
    "    \n",
    "    roc_values.append(roc_auc_score_value)\n",
    "\n"
   ]
  },
  {
   "cell_type": "code",
   "execution_count": 15,
   "metadata": {},
   "outputs": [],
   "source": [
    "# Arrange answer in two columns. First column (with header \"Id\") is an\n",
    "# enumeration from 0 to n-1, where n is the number of test points. Second\n",
    "# column (with header \"EpiOrStroma\" is the predictions.\n",
    "test_header = \"Id,EpiOrStroma\"\n",
    "n_points = X_test.shape[0]\n",
    "y_pred_pp = np.ones((n_points, 2))\n",
    "y_pred_pp[:, 0] = range(n_points)\n",
    "y_pred_pp[:, 1] = y_pred\n",
    "np.savetxt('my_submission.csv', y_pred_pp, fmt='%d', delimiter=\",\",\n",
    "           header=test_header, comments=\"\")\n",
    "\n",
    "# Note: fmt='%d' denotes that all values should be formatted as integers which\n",
    "# is appropriate for classification. For regression, where the second column\n",
    "# should be floating point, use fmt='%d,%f'.\n",
    "    "
   ]
  },
  {
   "cell_type": "code",
   "execution_count": 7,
   "metadata": {
    "scrolled": true
   },
   "outputs": [
    {
     "data": {
      "text/plain": [
       "Text(0, 0.5, 'ROC AUC Value')"
      ]
     },
     "execution_count": 7,
     "metadata": {},
     "output_type": "execute_result"
    },
    {
     "data": {
      "image/png": "[encoded data removed]",
      "text/plain": [
       "<Figure size 432x288 with 1 Axes>"
      ]
     },
     "metadata": {
      "needs_background": "light"
     },
     "output_type": "display_data"
    }
   ],
   "source": [
    "plt.plot(max_iters, roc_values)\n",
    "plt.xlabel(\"Max Iteration\")\n",
    "plt.ylabel(\"ROC AUC Value\")\n",
    "    "
   ]
  }
 ],
 "metadata": {
  "kernelspec": {
   "display_name": "Python 3",
   "language": "python",
   "name": "python3"
  },
  "language_info": {
   "codemirror_mode": {
    "name": "ipython",
    "version": 3
   },
   "file_extension": ".py",
   "mimetype": "text/x-python",
   "name": "python",
   "nbconvert_exporter": "python",
   "pygments_lexer": "ipython3",
   "version": "3.7.1"
  }
 },
 "nbformat": 4,
 "nbformat_minor": 2
}
